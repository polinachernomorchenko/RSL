{
 "cells": [
  {
   "cell_type": "code",
   "execution_count": 3,
   "id": "bf76219b",
   "metadata": {},
   "outputs": [],
   "source": [
    "import pandas as pd\n",
    "\n",
    "# from pymystem3 import Mystem\n",
    "# import nltk\n",
    "# from nltk.tokenize import RegexpTokenizer\n",
    "# import re\n",
    "# # nltk.download('stopwords')\n",
    "# from nltk.corpus import stopwords\n",
    "# sw = stopwords.words('russian')\n",
    "\n",
    "# tokenizer = RegexpTokenizer(r'\\w+')\n",
    "# m = Mystem()"
   ]
  },
  {
   "cell_type": "code",
   "execution_count": 4,
   "id": "3b295429",
   "metadata": {},
   "outputs": [],
   "source": [
    "books = pd.read_csv('lib_items.csv', sep = ';')  # sys_numb2title\n",
    "books_v = books.values.tolist()\n",
    "sys_numb2title = {}\n",
    "\n",
    "for i in books_v:\n",
    "    sys_numb2title[i[0]] = i[1]"
   ]
  },
  {
   "cell_type": "code",
   "execution_count": 5,
   "id": "8b6f0a9e",
   "metadata": {},
   "outputs": [],
   "source": [
    "trans = pd.read_csv('lib_train_transactions_extended.csv', sep = ';')  # chb2sys_nums\n",
    "trans = trans.sort_values(by = 'chb')\n",
    "trans_v = trans.values.tolist()\n",
    "chb2sys_nums = {}\n",
    "\n",
    "for i in trans_v:\n",
    "    if i[0] in chb2sys_nums:\n",
    "        chb2sys_nums[i[0]].append(i[1])\n",
    "    else:\n",
    "        chb2sys_nums[i[0]] = [i[1]]"
   ]
  },
  {
   "cell_type": "code",
   "execution_count": null,
   "id": "8b19bbb5",
   "metadata": {},
   "outputs": [],
   "source": [
    "# def clear_and_morph(text, sw, m):  ## это код препроцессинга из первой попытки, все последующие разы (включая этот) -\n",
    "#   text = str(text)                 ## я загружала файл\n",
    "#   text = text.lower()\n",
    "#   toks = tokenizer.tokenize(text)\n",
    "#   f_text = ' '.join([i for i in toks if i not in sw])\n",
    "#   lemmas = m.lemmatize(f_text)\n",
    "#   return lemmas"
   ]
  },
  {
   "cell_type": "code",
   "execution_count": null,
   "id": "5be9d7ad",
   "metadata": {},
   "outputs": [],
   "source": [
    "# titles_str = 'splittertoken'.join(books['title'].tolist())\n",
    "# lemmas_titles = clear_and_morph(titles_str, sw, m)\n",
    "# lemmatized_titles = ''.join(lemmas_titles).split('splittertoken')\n"
   ]
  },
  {
   "cell_type": "code",
   "execution_count": 6,
   "id": "04308b31",
   "metadata": {},
   "outputs": [],
   "source": [
    "lems = pd.read_csv('lib_lem_titles.csv')"
   ]
  },
  {
   "cell_type": "code",
   "execution_count": 7,
   "id": "d6be837d",
   "metadata": {},
   "outputs": [],
   "source": [
    "lems = lems.drop(columns = ['Unnamed: 0'])"
   ]
  },
  {
   "cell_type": "code",
   "execution_count": 8,
   "id": "b6074c5a",
   "metadata": {},
   "outputs": [],
   "source": [
    "from sklearn.feature_extraction.text import TfidfVectorizer"
   ]
  },
  {
   "cell_type": "code",
   "execution_count": 9,
   "id": "8864ba03",
   "metadata": {},
   "outputs": [],
   "source": [
    "vectorizer = TfidfVectorizer()\n",
    "X_tf = vectorizer.fit_transform(lems['0'].tolist())"
   ]
  },
  {
   "cell_type": "code",
   "execution_count": 10,
   "id": "db7b3d3b",
   "metadata": {},
   "outputs": [],
   "source": [
    "from sklearn.neighbors import NearestNeighbors     "
   ]
  },
  {
   "cell_type": "code",
   "execution_count": 11,
   "id": "cbad17b5",
   "metadata": {},
   "outputs": [
    {
     "data": {
      "text/plain": [
       "NearestNeighbors(metric='cosine', n_neighbors=20)"
      ]
     },
     "execution_count": 11,
     "metadata": {},
     "output_type": "execute_result"
    }
   ],
   "source": [
    "nbrs = NearestNeighbors(n_neighbors=20, algorithm='auto', metric='cosine')\n",
    "nbrs.fit(X_tf)"
   ]
  },
  {
   "cell_type": "code",
   "execution_count": 21,
   "id": "b755dbae",
   "metadata": {},
   "outputs": [],
   "source": [
    "users = pd.read_csv('lib_users.csv', sep = ';')"
   ]
  },
  {
   "cell_type": "code",
   "execution_count": 13,
   "id": "5ff823a7",
   "metadata": {},
   "outputs": [],
   "source": [
    "sys_num2idx = {}"
   ]
  },
  {
   "cell_type": "code",
   "execution_count": 14,
   "id": "9f365b9f",
   "metadata": {},
   "outputs": [],
   "source": [
    "cr = 0\n",
    "for i in books.sys_numb:\n",
    "    sys_num2idx[i] = cr\n",
    "    cr += 1"
   ]
  },
  {
   "cell_type": "code",
   "execution_count": 15,
   "id": "708e0456",
   "metadata": {},
   "outputs": [
    {
     "data": {
      "text/plain": [
       "354354"
      ]
     },
     "execution_count": 15,
     "metadata": {},
     "output_type": "execute_result"
    }
   ],
   "source": [
    "sys_num2idx['RSL01005482081']"
   ]
  },
  {
   "cell_type": "code",
   "execution_count": 1,
   "id": "fd3a1fd1",
   "metadata": {},
   "outputs": [],
   "source": [
    "# %%time\n",
    "all_recs = {}\n",
    "\n",
    "cr = 0\n",
    "for i in users.chb:\n",
    "    users_books = chb2sys_nums[i]\n",
    "    \n",
    "    if len(users_books) > 1:\n",
    "        \n",
    "        idx = sys_num2idx[users_books[-1]]\n",
    "        n10 = nbrs.kneighbors(X_tf.getrow(idx), return_distance=False).tolist()[0][1:11]\n",
    "        \n",
    "        idx = sys_num2idx[users_books[-2]]\n",
    "        n20 = nbrs.kneighbors(X_tf.getrow(idx), return_distance=False).tolist()[0][1:11]\n",
    "\n",
    "        sub_recs = n10 + n20\n",
    "        all_recs[i] = sub_recs\n",
    "        \n",
    "    else:\n",
    "        idx = sys_num2idx[users_books[-1]]\n",
    "        nbrs_list = nbrs.kneighbors(X_tf.getrow(idx.index[0]), return_distance=False).tolist()\n",
    "        sub_recs = nbrs_list[0][1:21]   \n",
    "        all_recs[i] = sub_recs\n",
    "        \n"
   ]
  },
  {
   "cell_type": "code",
   "execution_count": 18,
   "id": "8812a7c9",
   "metadata": {},
   "outputs": [],
   "source": [
    "end_table = []\n",
    "for i in all_recs:\n",
    "    for b in all_recs[i]:\n",
    "        el = [i, b]\n",
    "        end_table.append(el)\n",
    "        \n",
    "end_df = pd.DataFrame(end_table, columns = ['chb', 'sys_numb'])"
   ]
  },
  {
   "cell_type": "code",
   "execution_count": 19,
   "id": "8d4d6e5d",
   "metadata": {},
   "outputs": [],
   "source": [
    "def decoder(text):\n",
    "    sn = books.sys_numb[text]\n",
    "    return sn\n",
    "\n",
    "end_df['sys_numb'] = end_df['sys_numb'].apply(decoder)"
   ]
  },
  {
   "cell_type": "code",
   "execution_count": 20,
   "id": "efe1c694",
   "metadata": {},
   "outputs": [
    {
     "data": {
      "text/html": [
       "<div>\n",
       "<style scoped>\n",
       "    .dataframe tbody tr th:only-of-type {\n",
       "        vertical-align: middle;\n",
       "    }\n",
       "\n",
       "    .dataframe tbody tr th {\n",
       "        vertical-align: top;\n",
       "    }\n",
       "\n",
       "    .dataframe thead th {\n",
       "        text-align: right;\n",
       "    }\n",
       "</style>\n",
       "<table border=\"1\" class=\"dataframe\">\n",
       "  <thead>\n",
       "    <tr style=\"text-align: right;\">\n",
       "      <th></th>\n",
       "      <th>chb</th>\n",
       "      <th>sys_numb</th>\n",
       "    </tr>\n",
       "  </thead>\n",
       "  <tbody>\n",
       "    <tr>\n",
       "      <th>0</th>\n",
       "      <td>300001020830</td>\n",
       "      <td>RSL01010055979</td>\n",
       "    </tr>\n",
       "    <tr>\n",
       "      <th>1</th>\n",
       "      <td>300001020830</td>\n",
       "      <td>RSL01005110672</td>\n",
       "    </tr>\n",
       "    <tr>\n",
       "      <th>2</th>\n",
       "      <td>300001020830</td>\n",
       "      <td>RSL01008627057</td>\n",
       "    </tr>\n",
       "    <tr>\n",
       "      <th>3</th>\n",
       "      <td>300001020830</td>\n",
       "      <td>RSL01006524186</td>\n",
       "    </tr>\n",
       "    <tr>\n",
       "      <th>4</th>\n",
       "      <td>300001020830</td>\n",
       "      <td>RSL01005575066</td>\n",
       "    </tr>\n",
       "    <tr>\n",
       "      <th>...</th>\n",
       "      <td>...</td>\n",
       "      <td>...</td>\n",
       "    </tr>\n",
       "    <tr>\n",
       "      <th>335055</th>\n",
       "      <td>300001155049</td>\n",
       "      <td>RSL01006037680</td>\n",
       "    </tr>\n",
       "    <tr>\n",
       "      <th>335056</th>\n",
       "      <td>300001155049</td>\n",
       "      <td>RSL01006208926</td>\n",
       "    </tr>\n",
       "    <tr>\n",
       "      <th>335057</th>\n",
       "      <td>300001155049</td>\n",
       "      <td>RSL01006219679</td>\n",
       "    </tr>\n",
       "    <tr>\n",
       "      <th>335058</th>\n",
       "      <td>300001155049</td>\n",
       "      <td>RSL01006268298</td>\n",
       "    </tr>\n",
       "    <tr>\n",
       "      <th>335059</th>\n",
       "      <td>300001155049</td>\n",
       "      <td>RSL01006233207</td>\n",
       "    </tr>\n",
       "  </tbody>\n",
       "</table>\n",
       "<p>335060 rows × 2 columns</p>\n",
       "</div>"
      ],
      "text/plain": [
       "                 chb        sys_numb\n",
       "0       300001020830  RSL01010055979\n",
       "1       300001020830  RSL01005110672\n",
       "2       300001020830  RSL01008627057\n",
       "3       300001020830  RSL01006524186\n",
       "4       300001020830  RSL01005575066\n",
       "...              ...             ...\n",
       "335055  300001155049  RSL01006037680\n",
       "335056  300001155049  RSL01006208926\n",
       "335057  300001155049  RSL01006219679\n",
       "335058  300001155049  RSL01006268298\n",
       "335059  300001155049  RSL01006233207\n",
       "\n",
       "[335060 rows x 2 columns]"
      ]
     },
     "execution_count": 20,
     "metadata": {},
     "output_type": "execute_result"
    }
   ],
   "source": [
    "end_df"
   ]
  },
  {
   "cell_type": "code",
   "execution_count": 23,
   "id": "e683a0c8",
   "metadata": {},
   "outputs": [],
   "source": [
    "end_df.to_csv('lib_ent02.csv', sep = ';', index = False)"
   ]
  },
  {
   "cell_type": "code",
   "execution_count": null,
   "id": "eaf2dd5b",
   "metadata": {},
   "outputs": [],
   "source": []
  }
 ],
 "metadata": {
  "kernelspec": {
   "display_name": "Python 3 (ipykernel)",
   "language": "python",
   "name": "python3"
  },
  "language_info": {
   "codemirror_mode": {
    "name": "ipython",
    "version": 3
   },
   "file_extension": ".py",
   "mimetype": "text/x-python",
   "name": "python",
   "nbconvert_exporter": "python",
   "pygments_lexer": "ipython3",
   "version": "3.9.12"
  }
 },
 "nbformat": 4,
 "nbformat_minor": 5
}
